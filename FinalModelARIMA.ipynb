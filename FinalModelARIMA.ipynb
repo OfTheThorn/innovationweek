{
 "cells": [
  {
   "cell_type": "code",
   "execution_count": 1,
   "metadata": {},
   "outputs": [],
   "source": [
    "import numpy as np\n",
    "import matplotlib.pyplot as plt\n",
    "import pandas as pd\n",
    "import math\n",
    "import tensorflow as tf\n",
    "from keras.models import Sequential\n",
    "from keras.layers import Dense\n",
    "from keras.layers import LSTM\n",
    "from sklearn.preprocessing import MinMaxScaler\n",
    "from sklearn.metrics import mean_squared_error\n",
    "from sklearn.preprocessing import LabelEncoder\n",
    "\n",
    "import itertools\n",
    "import seaborn as sns\n",
    "import plotly.express as px\n",
    "import statsmodels.api as sm\n",
    "from statsmodels.tsa.stattools import adfuller, acf, pacf,arma_order_select_ic\n",
    "from statsmodels.graphics.tsaplots import plot_acf, plot_pacf\n",
    "from statsmodels.tsa.arima_model import ARIMA\n",
    "\n",
    "import warnings\n",
    "warnings.simplefilter('ignore')\n",
    "%matplotlib inline\n"
   ]
  },
  {
   "cell_type": "code",
   "execution_count": 2,
   "metadata": {},
   "outputs": [],
   "source": [
    "df = pd.read_csv(\"COVID19BE_CASES_AGESEX.csv\")"
   ]
  },
  {
   "cell_type": "code",
   "execution_count": 3,
   "metadata": {},
   "outputs": [],
   "source": [
    "def get_time_series_province(province):\n",
    "    pd.options.mode.chained_assignment = None  \n",
    "    df_updated = df.dropna(axis=0)\n",
    "    df_province = df_updated[(df_updated['PROVINCE'] == province)]\n",
    "    df_province[\"DATE\"] = pd.to_datetime(df_province[\"DATE\"], format='%Y-%m-%d')\n",
    "    #df_province[\"DATE\"] = df_province[\"DATE\"].dt.strftime(\"%Y%m%d\").astype(int)\n",
    "    df_province.drop([\"REGION\",\"AGEGROUP\",\"SEX\"], axis=1,inplace=True)\n",
    "    return df_province.groupby(\"DATE\").sum()\n",
    "    #df_province = df_province.groupby('df_province['DATE']').sum()    \n",
    "    #return df_province.set_index('DATE')[\"CASES\"]\n",
    "\n",
    "def get_time_series_total():\n",
    "    pd.options.mode.chained_assignment = None  \n",
    "    df_updated = df.dropna(axis=0)\n",
    "\n",
    "    df_updated[\"DATE\"] = pd.to_datetime(df_updated[\"DATE\"], format='%Y-%m-%d')\n",
    "    #df_updated[\"DATE\"] = df_updated[\"DATE\"].dt.strftime(\"%Y%m%d\").astype(int)\n",
    "    df_updated.drop([\"REGION\",\"AGEGROUP\",\"SEX\"], axis=1,inplace=True)\n",
    "    return df_updated.groupby('DATE').sum()\n"
   ]
  },
  {
   "cell_type": "code",
   "execution_count": 4,
   "metadata": {},
   "outputs": [],
   "source": [
    "result = get_time_series_total()\n"
   ]
  },
  {
   "cell_type": "code",
   "execution_count": 5,
   "metadata": {},
   "outputs": [
    {
     "name": "stdout",
     "output_type": "stream",
     "text": [
      "291 16\n"
     ]
    }
   ],
   "source": [
    "# split into train and test sets\n",
    "train_size = int(len(result) * 0.95)\n",
    "test_size = len(result) - train_size\n",
    "train, test = result[0:train_size], result[train_size:len(result)]\n",
    "print(len(train), len(test))"
   ]
  },
  {
   "cell_type": "code",
   "execution_count": 6,
   "metadata": {},
   "outputs": [],
   "source": [
    "def create_features(df,label=None):\n",
    "    df = df.copy()\n",
    "    df['Date'] = df.index\n",
    "    df['hour'] = df['Date'].dt.hour\n",
    "    df['dayofweek'] = df['Date'].dt.dayofweek\n",
    "    df['quarter'] = df['Date'].dt.quarter\n",
    "    df['month'] = df['Date'].dt.month\n",
    "    df['year'] = df['Date'].dt.year\n",
    "    df['dayofyear'] = df['Date'].dt.dayofyear\n",
    "    df['dayofmonth'] = df['Date'].dt.day\n",
    "    df['weekofyear'] = df['Date'].dt.weekofyear\n",
    "    \n",
    "    X = df[['hour','dayofweek','quarter','month','year',\n",
    "           'dayofyear','dayofmonth','weekofyear']]\n",
    "   \n",
    "    return X"
   ]
  },
  {
   "cell_type": "code",
   "execution_count": 7,
   "metadata": {},
   "outputs": [
    {
     "name": "stdout",
     "output_type": "stream",
     "text": [
      "            CASES  hour  dayofweek  quarter  month  year  dayofyear  \\\n",
      "DATE                                                                  \n",
      "2020-03-01     19     0          6        1      3  2020         61   \n",
      "2020-03-02     19     0          0        1      3  2020         62   \n",
      "2020-03-03     34     0          1        1      3  2020         63   \n",
      "2020-03-04     46     0          2        1      3  2020         64   \n",
      "2020-03-05     81     0          3        1      3  2020         65   \n",
      "...           ...   ...        ...      ...    ...   ...        ...   \n",
      "2020-12-12   1575     0          5        4     12  2020        347   \n",
      "2020-12-13    731     0          6        4     12  2020        348   \n",
      "2020-12-14   3793     0          0        4     12  2020        349   \n",
      "2020-12-15   3199     0          1        4     12  2020        350   \n",
      "2020-12-16   2809     0          2        4     12  2020        351   \n",
      "\n",
      "            dayofmonth  weekofyear  \n",
      "DATE                                \n",
      "2020-03-01           1           9  \n",
      "2020-03-02           2          10  \n",
      "2020-03-03           3          10  \n",
      "2020-03-04           4          10  \n",
      "2020-03-05           5          10  \n",
      "...                ...         ...  \n",
      "2020-12-12          12          50  \n",
      "2020-12-13          13          50  \n",
      "2020-12-14          14          51  \n",
      "2020-12-15          15          51  \n",
      "2020-12-16          16          51  \n",
      "\n",
      "[291 rows x 9 columns]\n"
     ]
    }
   ],
   "source": [
    "train_features=pd.DataFrame(create_features(train))\n",
    "test_features=pd.DataFrame(create_features(test))\n",
    "features_and_target_train = pd.concat([train,train_features], axis=1)\n",
    "features_and_target_test = pd.concat([test,test_features], axis=1)\n",
    "le = LabelEncoder()\n",
    "def FunLabelEncoder(df):\n",
    "    for c in result.columns:\n",
    "        if df.dtypes[c] == object:\n",
    "            le.fit(df[c].astype(str))\n",
    "            df[c] = le.transform(df[c].astype(str))\n",
    "    return df\n",
    "features_and_target_train= FunLabelEncoder(features_and_target_train)\n",
    "print(features_and_target_train)"
   ]
  },
  {
   "cell_type": "code",
   "execution_count": 8,
   "metadata": {},
   "outputs": [],
   "source": [
    "x_train= features_and_target_train[['month', 'dayofyear', 'dayofmonth' , 'weekofyear']]\n",
    "y1 = features_and_target_train[['CASES']]\n",
    "x_test = features_and_target_test[['month', 'dayofyear', 'dayofmonth' , 'weekofyear']]"
   ]
  },
  {
   "cell_type": "code",
   "execution_count": null,
   "metadata": {},
   "outputs": [],
   "source": [
    "#Mean absolute percentage error\n",
    "def mape(y1, y_pred): \n",
    "    y1, y_pred = np.array(y1), np.array(y_pred)\n",
    "    return np.mean(np.abs((y1 - y_pred) / y1)) * 100\n",
    "\n",
    "#Arima modeling for ts\n",
    "def arima(ts,test):\n",
    "    p=d=q=range(0,6)\n",
    "    a=99999\n",
    "    pdq=list(itertools.product(p,d,q))\n",
    "    \n",
    "    #Determining the best parameters\n",
    "    for var in pdq:\n",
    "        try:\n",
    "            model = ARIMA(ts, order=var)\n",
    "            result = model.fit()\n",
    "\n",
    "            if (result.aic<=a) :\n",
    "                a=result.aic\n",
    "                param=var\n",
    "        except:\n",
    "            continue\n",
    "            \n",
    "    #Modeling\n",
    "    model = ARIMA(ts, order=param)\n",
    "    result = model.fit()\n",
    "    result.plot_predict(start=int(len(ts) * 0.7), end=int(len(ts) * 1.2))\n",
    "    pred=result.forecast(steps=len(test))[0]\n",
    "    #Plotting results\n",
    "    f,ax=plt.subplots()\n",
    "    plt.plot(pred,c='green', label= 'predictions')\n",
    "    plt.plot(test, c='red',label='real values')\n",
    "    plt.legend()\n",
    "    plt.title('True vs predicted values')\n",
    "    #Printing the error metrics\n",
    "    print(result.summary())        \n",
    "    \n",
    "    print('\\nMean absolute percentage error: %f'%mape(test,pred))\n",
    "    return (pred)\n",
    "\n",
    "\n",
    "pred=arima(train,test)"
   ]
  },
  {
   "cell_type": "code",
   "execution_count": null,
   "metadata": {},
   "outputs": [],
   "source": [
    "print(pred)"
   ]
  },
  {
   "cell_type": "code",
   "execution_count": null,
   "metadata": {},
   "outputs": [],
   "source": []
  }
 ],
 "metadata": {
  "kernelspec": {
   "display_name": "Python 3",
   "language": "python",
   "name": "python3"
  },
  "language_info": {
   "codemirror_mode": {
    "name": "ipython",
    "version": 3
   },
   "file_extension": ".py",
   "mimetype": "text/x-python",
   "name": "python",
   "nbconvert_exporter": "python",
   "pygments_lexer": "ipython3",
   "version": "3.7.5"
  }
 },
 "nbformat": 4,
 "nbformat_minor": 4
}
