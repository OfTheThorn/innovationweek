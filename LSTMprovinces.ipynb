{
 "cells": [
  {
   "cell_type": "code",
   "execution_count": 1,
   "metadata": {},
   "outputs": [],
   "source": [
    "import numpy as np\n",
    "import matplotlib.pyplot as plt\n",
    "import pandas as pd\n",
    "import math\n",
    "import tensorflow as tf\n",
    "import datetime as dt\n",
    "from keras.models import Sequential\n",
    "from keras.layers import Dense\n",
    "from keras.layers import LSTM\n",
    "from sklearn.preprocessing import MinMaxScaler\n",
    "from sklearn.metrics import mean_squared_error"
   ]
  },
  {
   "cell_type": "code",
   "execution_count": 2,
   "metadata": {},
   "outputs": [],
   "source": [
    "df = pd.read_csv(\"COVID19BE_CASES_AGESEX.csv\")"
   ]
  },
  {
   "cell_type": "code",
   "execution_count": 3,
   "metadata": {},
   "outputs": [],
   "source": [
    "def get_time_series_province(province):\n",
    "    pd.options.mode.chained_assignment = None  \n",
    "    df_updated = df.dropna(axis=0)\n",
    "    df_province = df_updated[(df_updated['PROVINCE'] == province)]\n",
    "    df_province[\"DATE\"] = pd.to_datetime(df_province[\"DATE\"], format='%Y-%m-%d')\n",
    "    df_province[\"DATE\"] = df_province[\"DATE\"].dt.strftime(\"%Y%m%d\").astype(int)\n",
    "    df_province.drop([\"REGION\",\"AGEGROUP\",\"SEX\"], axis=1,inplace=True)\n",
    "    return df_province.groupby(\"DATE\").sum()\n",
    "    #df_province = df_province.groupby('df_province['DATE']').sum()    \n",
    "    #return df_province.set_index('DATE')[\"CASES\"]"
   ]
  },
  {
   "cell_type": "code",
   "execution_count": 4,
   "metadata": {},
   "outputs": [],
   "source": [
    "def get_time_series_total():\n",
    "    pd.options.mode.chained_assignment = None  \n",
    "    df_updated = df.dropna(axis=0)\n",
    "\n",
    "    df_updated[\"DATE\"] = pd.to_datetime(df_updated[\"DATE\"], format='%Y-%m-%d')\n",
    "    df_updated[\"DATE\"] = df_updated[\"DATE\"].dt.strftime(\"%Y%m%d\").astype(int)\n",
    "    df_updated.drop([\"REGION\",\"AGEGROUP\",\"SEX\"], axis=1,inplace=True)\n",
    "    return df_updated.groupby('DATE').sum()"
   ]
  },
  {
   "cell_type": "code",
   "execution_count": 5,
   "metadata": {},
   "outputs": [],
   "source": [
    "#pd.options.mode.chained_assignment = None  \n",
    "#df_updated[\"DATE\"] = pd.to_datetime(df_updated[\"DATE\"], format='%Y-%m-%d')\n",
    "#df_updated[\"DATE\"] = df_updated[\"DATE\"].dt.strftime(\"%Y%m%d\").astype(int)\n",
    "#df_updated.drop([\"REGION\",\"AGEGROUP\",\"SEX\"], axis=1,inplace=True)\n",
    "df_updated = get_time_series_province('Antwerpen')"
   ]
  },
  {
   "cell_type": "code",
   "execution_count": 6,
   "metadata": {
    "pycharm": {
     "name": "#%%\n"
    }
   },
   "outputs": [],
   "source": [
    "# df_updated = df_updated.groupby('DATE').sum()"
   ]
  },
  {
   "cell_type": "code",
   "execution_count": 7,
   "metadata": {},
   "outputs": [],
   "source": [
    "# normalize the dataset\n",
    "scaler = MinMaxScaler(feature_range=(0, 1))\n",
    "dataset = scaler.fit_transform(df_updated)"
   ]
  },
  {
   "cell_type": "code",
   "execution_count": 8,
   "metadata": {},
   "outputs": [
    {
     "name": "stdout",
     "output_type": "stream",
     "text": [
      "292 16\n"
     ]
    }
   ],
   "source": [
    "# split into train and test sets\n",
    "train_size = int(len(dataset) * 0.95)\n",
    "test_size = len(dataset) - train_size\n",
    "train, test = dataset[0:train_size,:], dataset[train_size:len(dataset),:]\n",
    "print(len(train), len(test))"
   ]
  },
  {
   "cell_type": "code",
   "execution_count": 9,
   "metadata": {},
   "outputs": [],
   "source": [
    "def create_dataset(dataset, look_back=1):\n",
    "    dataX, dataY = [], []\n",
    "    for i in range(len(dataset)-look_back-1):\n",
    "        a = dataset[i:(i+look_back), 0]\n",
    "        dataX.append(a)\n",
    "        dataY.append(dataset[i + look_back, 0])\n",
    "    return np.array(dataX), np.array(dataY)"
   ]
  },
  {
   "cell_type": "code",
   "execution_count": 10,
   "metadata": {},
   "outputs": [],
   "source": [
    "look_back = 1\n",
    "trainX, trainY = create_dataset(train, look_back)\n",
    "testX, testY = create_dataset(test, look_back)"
   ]
  },
  {
   "cell_type": "code",
   "execution_count": 11,
   "metadata": {},
   "outputs": [],
   "source": [
    "trainX = np.reshape(trainX, (trainX.shape[0], 1, trainX.shape[1]))\n",
    "testX = np.reshape(testX, (testX.shape[0], 1, testX.shape[1]))"
   ]
  },
  {
   "cell_type": "code",
   "execution_count": 12,
   "metadata": {
    "scrolled": true
   },
   "outputs": [
    {
     "name": "stdout",
     "output_type": "stream",
     "text": [
      "Epoch 1/50\n",
      "290/290 - 1s - loss: 0.0294\n",
      "Epoch 2/50\n",
      "290/290 - 0s - loss: 0.0231\n",
      "Epoch 3/50\n",
      "290/290 - 0s - loss: 0.0202\n",
      "Epoch 4/50\n",
      "290/290 - 0s - loss: 0.0173\n",
      "Epoch 5/50\n",
      "290/290 - 0s - loss: 0.0149\n",
      "Epoch 6/50\n",
      "290/290 - 0s - loss: 0.0127\n",
      "Epoch 7/50\n",
      "290/290 - 0s - loss: 0.0111\n",
      "Epoch 8/50\n",
      "290/290 - 0s - loss: 0.0102\n",
      "Epoch 9/50\n",
      "290/290 - 0s - loss: 0.0095\n",
      "Epoch 10/50\n",
      "290/290 - 0s - loss: 0.0095\n",
      "Epoch 11/50\n",
      "290/290 - 0s - loss: 0.0093\n",
      "Epoch 12/50\n",
      "290/290 - 0s - loss: 0.0093\n",
      "Epoch 13/50\n",
      "290/290 - 0s - loss: 0.0093\n",
      "Epoch 14/50\n",
      "290/290 - 0s - loss: 0.0093\n",
      "Epoch 15/50\n",
      "290/290 - 0s - loss: 0.0094\n",
      "Epoch 16/50\n",
      "290/290 - 0s - loss: 0.0093\n",
      "Epoch 17/50\n",
      "290/290 - 0s - loss: 0.0093\n",
      "Epoch 18/50\n",
      "290/290 - 0s - loss: 0.0093\n",
      "Epoch 19/50\n",
      "290/290 - 0s - loss: 0.0093\n",
      "Epoch 20/50\n",
      "290/290 - 0s - loss: 0.0092\n",
      "Epoch 21/50\n",
      "290/290 - 0s - loss: 0.0093\n",
      "Epoch 22/50\n",
      "290/290 - 0s - loss: 0.0093\n",
      "Epoch 23/50\n",
      "290/290 - 0s - loss: 0.0093\n",
      "Epoch 24/50\n",
      "290/290 - 0s - loss: 0.0093\n",
      "Epoch 25/50\n",
      "290/290 - 0s - loss: 0.0093\n",
      "Epoch 26/50\n",
      "290/290 - 0s - loss: 0.0093\n",
      "Epoch 27/50\n",
      "290/290 - 0s - loss: 0.0093\n",
      "Epoch 28/50\n",
      "290/290 - 0s - loss: 0.0092\n",
      "Epoch 29/50\n",
      "290/290 - 0s - loss: 0.0093\n",
      "Epoch 30/50\n",
      "290/290 - 0s - loss: 0.0092\n",
      "Epoch 31/50\n",
      "290/290 - 0s - loss: 0.0094\n",
      "Epoch 32/50\n",
      "290/290 - 0s - loss: 0.0093\n",
      "Epoch 33/50\n",
      "290/290 - 0s - loss: 0.0093\n",
      "Epoch 34/50\n",
      "290/290 - 0s - loss: 0.0091\n",
      "Epoch 35/50\n",
      "290/290 - 0s - loss: 0.0094\n",
      "Epoch 36/50\n",
      "290/290 - 0s - loss: 0.0093\n",
      "Epoch 37/50\n",
      "290/290 - 0s - loss: 0.0093\n",
      "Epoch 38/50\n",
      "290/290 - 0s - loss: 0.0092\n",
      "Epoch 39/50\n",
      "290/290 - 0s - loss: 0.0094\n",
      "Epoch 40/50\n",
      "290/290 - 0s - loss: 0.0092\n",
      "Epoch 41/50\n",
      "290/290 - 0s - loss: 0.0093\n",
      "Epoch 42/50\n",
      "290/290 - 0s - loss: 0.0093\n",
      "Epoch 43/50\n",
      "290/290 - 0s - loss: 0.0092\n",
      "Epoch 44/50\n",
      "290/290 - 0s - loss: 0.0093\n",
      "Epoch 45/50\n",
      "290/290 - 0s - loss: 0.0093\n",
      "Epoch 46/50\n",
      "290/290 - 0s - loss: 0.0093\n",
      "Epoch 47/50\n",
      "290/290 - 0s - loss: 0.0093\n",
      "Epoch 48/50\n",
      "290/290 - 0s - loss: 0.0094\n",
      "Epoch 49/50\n",
      "290/290 - 0s - loss: 0.0092\n",
      "Epoch 50/50\n",
      "290/290 - 0s - loss: 0.0093\n"
     ]
    },
    {
     "data": {
      "text/plain": [
       "<tensorflow.python.keras.callbacks.History at 0x12e56878f48>"
      ]
     },
     "execution_count": 12,
     "metadata": {},
     "output_type": "execute_result"
    }
   ],
   "source": [
    "model = Sequential()\n",
    "model.add(LSTM(4, input_shape=(1, look_back)))\n",
    "model.add(Dense(1))\n",
    "model.compile(loss='mean_squared_error', optimizer='adam')\n",
    "model.fit(trainX, trainY, epochs=50, batch_size=1, verbose=2)"
   ]
  },
  {
   "cell_type": "code",
   "execution_count": 13,
   "metadata": {},
   "outputs": [
    {
     "name": "stdout",
     "output_type": "stream",
     "text": [
      "Train Score: 221.00 RMSE\n",
      "Test Score: 184.13 RMSE\n"
     ]
    }
   ],
   "source": [
    "trainPredict = model.predict(trainX)\n",
    "testPredict = model.predict(testX)\n",
    "# invert predictions\n",
    "trainPredict = scaler.inverse_transform(trainPredict)\n",
    "trainY = scaler.inverse_transform([trainY])\n",
    "testPredict = scaler.inverse_transform(testPredict)\n",
    "testY = scaler.inverse_transform([testY])\n",
    "# calculate root mean squared error\n",
    "trainScore = math.sqrt(mean_squared_error(trainY[0], trainPredict[:,0]))\n",
    "print('Train Score: %.2f RMSE' % (trainScore))\n",
    "testScore = math.sqrt(mean_squared_error(testY[0], testPredict[:,0]))\n",
    "print('Test Score: %.2f RMSE' % (testScore))"
   ]
  },
  {
   "cell_type": "code",
   "execution_count": 14,
   "metadata": {},
   "outputs": [
    {
     "data": {
      "image/png": "[encoded data removed]",
      "text/plain": [
       "<Figure size 432x288 with 1 Axes>"
      ]
     },
     "metadata": {
      "needs_background": "light"
     },
     "output_type": "display_data"
    }
   ],
   "source": [
    "# shift train predictions for plotting\n",
    "trainPredictPlot = np.empty_like(dataset)\n",
    "trainPredictPlot[:, :] = np.nan\n",
    "trainPredictPlot[look_back:len(trainPredict)+look_back, :] = trainPredict\n",
    "# shift test predictions for plotting\n",
    "testPredictPlot = np.empty_like(dataset)\n",
    "testPredictPlot[:, :] = np.nan\n",
    "testPredictPlot[len(trainPredict)+(look_back*2)+1:len(dataset)-1, :] = testPredict\n",
    "# plot baseline and predictions\n",
    "plt.plot(scaler.inverse_transform(dataset))\n",
    "plt.plot(trainPredictPlot)\n",
    "plt.plot(testPredictPlot)\n",
    "plt.show()"
   ]
  },
  {
   "cell_type": "code",
   "execution_count": 15,
   "metadata": {},
   "outputs": [
    {
     "name": "stdout",
     "output_type": "stream",
     "text": [
      "          CASES\n",
      "DATE           \n",
      "20200301      1\n",
      "20200302      1\n",
      "20200303      5\n",
      "20200304      6\n",
      "20200305     11\n",
      "...         ...\n",
      "20201229    402\n",
      "20201230    338\n",
      "20201231    260\n",
      "20210101     50\n",
      "20210102      2\n",
      "\n",
      "[308 rows x 1 columns]\n"
     ]
    }
   ],
   "source": [
    "print(get_time_series_province('Antwerpen'))"
   ]
  },
  {
   "cell_type": "code",
   "execution_count": 27,
   "metadata": {},
   "outputs": [
    {
     "name": "stdout",
     "output_type": "stream",
     "text": [
      "[[20201230.]]\n"
     ]
    }
   ],
   "source": [
    "date = pd.to_datetime(\"2020-12-29\", format='%Y-%m-%d')\n",
    "date = dt.datetime.strftime(date, '%Y%m%d')\n",
    "date = int(date)\n",
    "x_input = np.array([date]).reshape(1, -1)\n",
    "x_input = scaler.fit_transform(x_input)\n",
    "x_input = np.reshape(x_input, (1,1,1))\n",
    "yhat = model.predict(x_input, verbose=0)\n",
    "yhat = scaler.inverse_transform(yhat)\n",
    "print(yhat)"
   ]
  },
  {
   "cell_type": "code",
   "execution_count": null,
   "metadata": {},
   "outputs": [],
   "source": []
  }
 ],
 "metadata": {
  "kernelspec": {
   "display_name": "Python 3",
   "language": "python",
   "name": "python3"
  },
  "language_info": {
   "codemirror_mode": {
    "name": "ipython",
    "version": 3
   },
   "file_extension": ".py",
   "mimetype": "text/x-python",
   "name": "python",
   "nbconvert_exporter": "python",
   "pygments_lexer": "ipython3",
   "version": "3.7.5"
  }
 },
 "nbformat": 4,
 "nbformat_minor": 4
}
